{
 "cells": [
  {
   "cell_type": "code",
   "execution_count": 1,
   "metadata": {},
   "outputs": [],
   "source": [
    "import math\n",
    "\n",
    "def addition(num1, num2):\n",
    "    return num1 + num2\n",
    "\n",
    "def subtraction(num1, num2):\n",
    "    return num1 - num2\n",
    "\n",
    "def multiplication(num1, num2):\n",
    "    return num1 * num2\n",
    "\n",
    "def division(num1, num2):\n",
    "    return num1 / num2\n"
   ]
  },
  {
   "cell_type": "code",
   "execution_count": 4,
   "metadata": {},
   "outputs": [
    {
     "name": "stdout",
     "output_type": "stream",
     "text": [
      "Sup homie, let's calculate sum\n",
      "Select the first number 35\n",
      "Select the second number 11111\n",
      "select the operation: \n",
      "1 - addition, \n",
      "2 - subtraciton, \n",
      "3 - multiplication \n",
      "4 - division \n",
      "6\n",
      "The select option is not available\n",
      "Would you like to enter another command? Y/N y\n",
      "Select the first number 35\n",
      "Select the second number 11111\n",
      "select the operation: \n",
      "1 - addition, \n",
      "2 - subtraciton, \n",
      "3 - multiplication \n",
      "4 - division \n",
      "4\n",
      "The result is 0.003150031500315003\n",
      "Would you like to enter another command? Y/N n\n",
      "Thank you for using our services\n"
     ]
    }
   ],
   "source": [
    "print(\"Sup homie, let's calculate sum\")\n",
    "\n",
    "operator = True\n",
    "while operator:\n",
    "    \n",
    "    num1 = int(input(\"Select the first number \"))\n",
    "    num2 = int(input(\"Select the second number \"))\n",
    "\n",
    "    try:\n",
    "\n",
    "        select_action = int(input(\"select the operation: \\n\"\n",
    "        \"1 - addition, \\n\"\n",
    "        \"2 - subtraciton, \\n\"\n",
    "        \"3 - multiplication \\n\"\n",
    "        \"4 - division \\n\"))\n",
    "\n",
    "    except:\n",
    "        print('Select an integer')\n",
    "\n",
    "\n",
    "    if select_action == 1:\n",
    "        result = addition(num1, num2)\n",
    "        print('\\n')\n",
    "        print(f\"The result is {result}\")\n",
    "\n",
    "\n",
    "    elif select_action == 2:\n",
    "        result = subtraction(num1, num2)\n",
    "        print(f\"The result is {result}\")\n",
    "\n",
    "    elif select_action == 3:\n",
    "        result = multiplication(num1, num2)\n",
    "        print(f\"The result is {result}\")\n",
    "\n",
    "    elif select_action == 4:\n",
    "        result = division(num1, num2)\n",
    "        print(f\"The result is {result}\")\n",
    "\n",
    "    else:\n",
    "        print(\"The select option is not available\")\n",
    "\n",
    "\n",
    "\n",
    "    q = input(\"Would you like to enter another command? Y/N \").upper()\n",
    "\n",
    "    if q == \"Y\":\n",
    "        continue\n",
    "        \n",
    "    else:\n",
    "        break\n",
    "print(\"Thank you for using our services\")"
   ]
  },
  {
   "cell_type": "code",
   "execution_count": null,
   "metadata": {},
   "outputs": [],
   "source": []
  }
 ],
 "metadata": {
  "kernelspec": {
   "display_name": "PythonData",
   "language": "python",
   "name": "pythondata"
  },
  "language_info": {
   "codemirror_mode": {
    "name": "ipython",
    "version": 3
   },
   "file_extension": ".py",
   "mimetype": "text/x-python",
   "name": "python",
   "nbconvert_exporter": "python",
   "pygments_lexer": "ipython3",
   "version": "3.8.1"
  }
 },
 "nbformat": 4,
 "nbformat_minor": 2
}
