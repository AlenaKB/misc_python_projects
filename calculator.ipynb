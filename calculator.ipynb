{
 "cells": [
  {
   "cell_type": "code",
   "execution_count": 1,
   "metadata": {},
   "outputs": [],
   "source": [
    "from numbers import Real\n",
    "import statistics as st\n",
    "from functools import reduce\n",
    "\n",
    "class Calculator:\n",
    "    def __init__(self, *numbers):\n",
    "        self._numbers = numbers\n",
    "        if len(list(self._numbers)) ==2:\n",
    "            self.x, self.y = numbers\n",
    "        else:\n",
    "            self._numbers = list(numbers)\n",
    "\n",
    "    def check_numbers(self, *args):\n",
    "        for val in args:\n",
    "            if val == 0:\n",
    "                raise ZeroDivisionError('Cannot divide by zero')\n",
    "            if not isinstance(val, Real):\n",
    "                raise ValueError('Variable has to be a real number')\n",
    "        return args\n",
    "    \n",
    "    def __repr__(self):\n",
    "        return f'This is a simple calculator class.\\nYour variables are: {self._numbers}'\n",
    "\n",
    "    def add(self):\n",
    "        return self.x + self.y\n",
    "    \n",
    "    def sub(self,x,y):\n",
    "        return self.x - self.y\n",
    "    \n",
    "    def multiply(self):\n",
    "        return self.x * self.y\n",
    "    \n",
    "    def product(self):\n",
    "        return reduce(lambda x, y: x*y, self._numbers)\n",
    "    \n",
    "    def div(self):\n",
    "        if self.check_numbers(self.x, self.y):\n",
    "            return self.x / self.y\n",
    "    \n",
    "    def floordiv(self):\n",
    "        if self.check_numbers(self.x, self.y):\n",
    "            return self.x // self.y\n",
    "    \n",
    "class StatsCalculator(Calculator):\n",
    "    \n",
    "    def mean(self):\n",
    "        return st.mean(self._numbers)\n",
    "    \n",
    "    def median(self):\n",
    "        return st.median(self._numbers)\n",
    "    \n",
    "    def mode(self):\n",
    "        return max(set(self._numbers), key=self._numbers.count)\n",
    "    \n",
    "    def stdev(self):\n",
    "        return st.stdev(self._numbers)"
   ]
  },
  {
   "cell_type": "code",
   "execution_count": 2,
   "metadata": {},
   "outputs": [],
   "source": [
    "import unittest"
   ]
  },
  {
   "cell_type": "code",
   "execution_count": 3,
   "metadata": {},
   "outputs": [],
   "source": [
    "def run_tests(test_class):\n",
    "    suite = unittest.TestLoader().loadTestsFromTestCase(test_class)\n",
    "    runner = unittest.TextTestRunner(verbosity=2)\n",
    "    result = runner.run(suite)"
   ]
  },
  {
   "cell_type": "code",
   "execution_count": 15,
   "metadata": {},
   "outputs": [],
   "source": [
    "from fractions import Fraction\n",
    "class Test_Calculator(unittest.TestCase):\n",
    "    \n",
    "    def test_add(self):\n",
    "        c = Calculator(3, Fraction(1,8))\n",
    "        c2 = Calculator(4, -0.8)\n",
    "        self.assertEqual(c.add(), Fraction(25, 8))\n",
    "        self.assertEqual(c2.add(), 3.2)\n",
    "        \n",
    "    def test_div(self):\n",
    "        c1 = Calculator(2, 0)\n",
    "        c2 = Calculator(34, 1j)\n",
    "        with self.assertRaises(ZeroDivisionError):\n",
    "            c1.div()\n",
    "            c1.floordiv()\n",
    "        with self.assertRaises(ValueError):\n",
    "            c2.div()\n",
    "            c2.floordiv()\n",
    "            \n",
    "    def test_mean(self):\n",
    "        c = StatsCalculator(12,5,4,7,8)\n",
    "        c2 = StatsCalculator(12,-3,5,0)\n",
    "        self.assertEqual(c.mean(), 7.2)\n",
    "        self.assertEqual(c2.mean(), 3.5)\n",
    "        \n",
    "    def test_median(self):\n",
    "        c = StatsCalculator(12,5,4,7,8)\n",
    "        self.assertEqual(c.median(), 7)\n",
    "        \n",
    "    def test_mode(self):\n",
    "        c = StatsCalculator(12,5,4,7,8, 8, 8, 5, 12)\n",
    "        self.assertEqual(c.mode(), 8)\n",
    "        \n",
    "    def test_stdev(self):\n",
    "        c = StatsCalculator(12,5,4,7,8)\n",
    "        self.assertEqual(round(c.stdev(),1), 3.1)"
   ]
  },
  {
   "cell_type": "code",
   "execution_count": 16,
   "metadata": {},
   "outputs": [
    {
     "name": "stderr",
     "output_type": "stream",
     "text": [
      "test_add (__main__.Test_Calculator) ... ok\n",
      "test_div (__main__.Test_Calculator) ... ok\n",
      "test_mean (__main__.Test_Calculator) ... ok\n",
      "test_median (__main__.Test_Calculator) ... ok\n",
      "test_mode (__main__.Test_Calculator) ... ok\n",
      "test_stdev (__main__.Test_Calculator) ... ok\n",
      "\n",
      "----------------------------------------------------------------------\n",
      "Ran 6 tests in 0.004s\n",
      "\n",
      "OK\n"
     ]
    }
   ],
   "source": [
    "run_tests(Test_Calculator)"
   ]
  },
  {
   "cell_type": "code",
   "execution_count": null,
   "metadata": {},
   "outputs": [],
   "source": []
  }
 ],
 "metadata": {
  "kernelspec": {
   "display_name": "PythonData",
   "language": "python",
   "name": "pythondata"
  },
  "language_info": {
   "codemirror_mode": {
    "name": "ipython",
    "version": 3
   },
   "file_extension": ".py",
   "mimetype": "text/x-python",
   "name": "python",
   "nbconvert_exporter": "python",
   "pygments_lexer": "ipython3",
   "version": "3.8.1"
  }
 },
 "nbformat": 4,
 "nbformat_minor": 2
}
