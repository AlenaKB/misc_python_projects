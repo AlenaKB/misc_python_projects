{
 "cells": [
  {
   "cell_type": "code",
   "execution_count": 1,
   "metadata": {},
   "outputs": [],
   "source": [
    "import pandas as pd\n",
    "import numpy as np\n",
    "import random\n",
    "import datetime as dt \n",
    "from datetime import timedelta\n",
    "import calendar\n",
    "from faker import Faker"
   ]
  },
  {
   "cell_type": "code",
   "execution_count": 2,
   "metadata": {},
   "outputs": [],
   "source": [
    "products = {\n",
    "    \n",
    "      'iPhone': [900, 10], #weight = 10\n",
    "      'Google Phone': [600, 8], \n",
    "      \"Samsung Galaxy\": [1000, 9],\n",
    "      'Whatever Phone': [300, 4],\n",
    "      '20in Monitor': [109.99,6],\n",
    "      '34in Ultrawide Monitor': [379.99, 9],\n",
    "      '27in 4K Gaming Monitor': [389.99,9],\n",
    "      '27in FHD Monitor': [149.99, 11],\n",
    "      'Flatscreen TV': [300, 7],\n",
    "      'Macbook Pro Laptop': [1700, 7],\n",
    "      'ThinkPad Laptop': [999.99, 6],\n",
    "      'AA Batteries (4-pack)': [3.84, 30],\n",
    "      'AAA Batteries (4-pack)': [2.99, 30],\n",
    "      'USB-C Charging Cable': [11.95, 30],\n",
    "      'Lightning Charging Cable': [14.95, 30],\n",
    "      'Wired Headphones': [11.99, 26],\n",
    "      'Bose SoundSport Headphones': [99.99, 19],\n",
    "      'Apple Airpods Headphones': [150, 22],\n",
    "      'LG Washing Machine': [600.00, 1],\n",
    "      'LG Dryer': [600.00, 1]\n",
    "}\n"
   ]
  },
  {
   "cell_type": "code",
   "execution_count": 3,
   "metadata": {},
   "outputs": [],
   "source": [
    "columns = [\"Order ID\", 'Product', 'Quantity Ordered', 'Price Each', 'Order Date', 'Purchase Address']\n",
    "order_id = 123\n"
   ]
  },
  {
   "cell_type": "code",
   "execution_count": 4,
   "metadata": {},
   "outputs": [],
   "source": [
    "def generate_random_time(month):\n",
    "    #generate a date in a format mm-dd-yy hour:min\n",
    "    day_range = calendar.monthrange(2019, month)[1]\n",
    "    random_day = random.randint(1, day_range)\n",
    "    if random.random() < 0.5:\n",
    "        date = dt.datetime(2019, month, random_day, 12,0)\n",
    "    else:\n",
    "        date = dt.datetime(2019, month, random_day, 20,0)\n",
    "        \n",
    "    time_offset = np.random.normal(loc=0, scale = 180)\n",
    "    \n",
    "    final_date = date + dt.timedelta(minutes = time_offset)\n",
    "    \n",
    "    return final_date.strftime(\"%m/%d/%y %H:%M\")"
   ]
  },
  {
   "cell_type": "code",
   "execution_count": 16,
   "metadata": {},
   "outputs": [],
   "source": [
    "#random address generator\n",
    "fake = Faker()\n",
    "address = fake.address()"
   ]
  },
  {
   "cell_type": "code",
   "execution_count": 17,
   "metadata": {},
   "outputs": [],
   "source": [
    "#random address generator\n",
    "fake = Faker()\n",
    "\n",
    "def write_row(order_id, product, order_date, address):\n",
    "    price = products[product][0]\n",
    "    #apply geometric distribution to the quantity ordered\n",
    "    quantity_ordered = np.random.geometric(p=1.0-(1.0/price), size = 1)[0] \n",
    "    output = [order_id, product, quantity_ordered, price, order_date, address]\n",
    "    return output"
   ]
  },
  {
   "cell_type": "code",
   "execution_count": 22,
   "metadata": {},
   "outputs": [
    {
     "name": "stdout",
     "output_type": "stream",
     "text": [
      "January finished\n"
     ]
    }
   ],
   "source": [
    "if __name__ == '__main__':\n",
    "\n",
    "    product_list = [product for product in products]\n",
    "    weights = [products[prod][1] for prod in products]\n",
    "\n",
    "    for month in range(1, 13):\n",
    "\n",
    "        #generate the distribution of each month\n",
    "        if month <= 10:\n",
    "            orders_amount = int(np.random.normal(loc=12000, scale=4000))\n",
    "\n",
    "        #gnerate more sales for november\n",
    "        if month == 11:\n",
    "            orders_amount = int(np.random.normal(loc=20000, scale=3000))\n",
    "\n",
    "          #probability that December will have the most sales   \n",
    "        if month == 12:\n",
    "            orders_amount = int(np.random.normal(loc=27000, scale=3000))\n",
    "\n",
    "        df = pd.DataFrame(columns=columns)\n",
    "\n",
    "        i=0\n",
    "        while orders_amount > 0:\n",
    "            order_date = generate_random_time(month)\n",
    "    #generate the random amount of products according to the assigned weights\n",
    "            product = random.choices(product_list, weights = weights)[0]\n",
    "            df.loc[i] = write_row(order_id, product, order_date, address)\n",
    "\n",
    "            #product that could potentially be purchased together \n",
    "            if product == \"iPhone\":\n",
    "                if random.random() < 0.15:\n",
    "                    df.loc[i] = write_row(order_id, 'Lightning Charging Cable', order_date, address)\n",
    "                    i+=1\n",
    "                if random.random() < 0.05:\n",
    "                    df.loc[i] = write_row(order_id, 'Apple Airpods Headphones', order_date, address)\n",
    "                    i+=1\n",
    "\n",
    "                if random.random() < 0.07:\n",
    "                    df.loc[i] = write_row(order_id, 'Wired Headphones', order_date, address)\n",
    "                    i+=1\n",
    "\n",
    "            if product == \"Samsung Galaxy\" or product == 'Google Phone':\n",
    "                if random.random() < 0.15:\n",
    "                    df.loc[i] = write_row(order_id, 'USB-C Charging Cable', order_date, address)\n",
    "                    i+=1\n",
    "                if random.random() < 0.05:\n",
    "                    df.loc[i] = write_row(order_id, 'Bose SoundSport Headphones', order_date, address)\n",
    "                    i+=1\n",
    "\n",
    "                if random.random() < 0.07:\n",
    "                    df.loc[i] = write_row(order_id, 'Wired Headphones', order_date, address)\n",
    "                    i+=1\n",
    "\n",
    "    #         if random.random() <=0.02:\n",
    "    #             product2 = random.choices(product_list, weights = weights)[0]\n",
    "    #             df.loc = write_row(order_id, product2, order_date, address)\n",
    "    #             i+=1\n",
    "\n",
    "\n",
    "            order_id += 1\n",
    "            orders_amount-=1\n",
    "\n",
    "    #         print(product_list)\n",
    "    #         print(weights)\n",
    "        #generate 12 csv for each month \n",
    "        month_name = calendar.month_name[month]\n",
    "        print(month_name + ' finished')\n",
    "        df.to_csv(f'{month_name}_data.csv')"
   ]
  }
 ],
 "metadata": {
  "kernelspec": {
   "display_name": "PythonData",
   "language": "python",
   "name": "pythondata"
  },
  "language_info": {
   "codemirror_mode": {
    "name": "ipython",
    "version": 3
   },
   "file_extension": ".py",
   "mimetype": "text/x-python",
   "name": "python",
   "nbconvert_exporter": "python",
   "pygments_lexer": "ipython3",
   "version": "3.8.1"
  }
 },
 "nbformat": 4,
 "nbformat_minor": 2
}
