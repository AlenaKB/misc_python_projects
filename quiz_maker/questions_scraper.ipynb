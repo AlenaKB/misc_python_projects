{
 "cells": [
  {
   "cell_type": "code",
   "execution_count": 1,
   "metadata": {},
   "outputs": [],
   "source": [
    "import bs4\n",
    "import requests "
   ]
  },
  {
   "cell_type": "code",
   "execution_count": 2,
   "metadata": {},
   "outputs": [],
   "source": [
    "#I just chose a random website with a general knowdledge trivia\n",
    "url = 'https://www.express.co.uk/news/science/1279284/science-nature-quiz-questions-and-answers'"
   ]
  },
  {
   "cell_type": "code",
   "execution_count": 12,
   "metadata": {},
   "outputs": [],
   "source": [
    "#initialize web scraper \n",
    "res = requests.get(url)\n",
    "soup = bs4.BeautifulSoup(res.text, 'html.parser')"
   ]
  },
  {
   "cell_type": "code",
   "execution_count": 61,
   "metadata": {},
   "outputs": [],
   "source": [
    "questions = []\n",
    "for p in soup.select('p')[3:24]:\n",
    "    questions.append(p.text.strip())"
   ]
  },
  {
   "cell_type": "code",
   "execution_count": 89,
   "metadata": {},
   "outputs": [],
   "source": [
    "answers = []\n",
    "for p in soup.select('p')[27:45]:\n",
    "    answers.append(p.text)"
   ]
  },
  {
   "cell_type": "code",
   "execution_count": 106,
   "metadata": {},
   "outputs": [],
   "source": [
    "answers = [i.strip('.') for i in answers]\n",
    "questions = [i.strip('.') for i in questions]"
   ]
  },
  {
   "cell_type": "code",
   "execution_count": 135,
   "metadata": {},
   "outputs": [],
   "source": [
    "with open('questions.txt', 'w') as f:\n",
    "    f.write( ','.join(questions) )"
   ]
  },
  {
   "cell_type": "code",
   "execution_count": 133,
   "metadata": {},
   "outputs": [],
   "source": [
    "with open('answers.txt', 'w') as f:\n",
    "    for item in answers:\n",
    "        f.write(\"%s\\n\" % item)"
   ]
  },
  {
   "cell_type": "code",
   "execution_count": 129,
   "metadata": {},
   "outputs": [
    {
     "data": {
      "text/plain": [
       "['1) What year did the first man first walk on the Moon? Bonus point for naming the astronaut',\n",
       " '2) Which is the most sensitive of the senses?',\n",
       " '3) On average, how far away is the Sun from Earth? Answer in miles or kilometres',\n",
       " '4) Which legendary British physicist wrote A Brief History of Time?',\n",
       " '5) Which planet is known as the Jewell of the Solar System?',\n",
       " \"6) What is the name of NASA's 2020 Mars rover?\",\n",
       " '7) What modern-day country was Marie Curie born in?',\n",
       " '8) What is the most common chemical element in the universe?',\n",
       " '9) What year did Sir Edmund Hillary and Tenzing Norgay climb Mount Everest? Bonus point for full date',\n",
       " '10) Which substance in the skin filters out harmful light from the Sun?',\n",
       " '11) How many hearts do octopuses have?',\n",
       " '12) In electronics, what does DC stand for?',\n",
       " '13) What was the name of the first supersonic passenger airliner?',\n",
       " '14) Humans and chimpanzees share approximately how much DNA?',\n",
       " '15) What planet in the solar system is sometimes known as the Morning Star or Evening Star?']"
      ]
     },
     "execution_count": 129,
     "metadata": {},
     "output_type": "execute_result"
    }
   ],
   "source": [
    "questions"
   ]
  },
  {
   "cell_type": "code",
   "execution_count": null,
   "metadata": {},
   "outputs": [],
   "source": []
  }
 ],
 "metadata": {
  "kernelspec": {
   "display_name": "PythonData",
   "language": "python",
   "name": "pythondata"
  },
  "language_info": {
   "codemirror_mode": {
    "name": "ipython",
    "version": 3
   },
   "file_extension": ".py",
   "mimetype": "text/x-python",
   "name": "python",
   "nbconvert_exporter": "python",
   "pygments_lexer": "ipython3",
   "version": "3.8.1"
  }
 },
 "nbformat": 4,
 "nbformat_minor": 2
}
