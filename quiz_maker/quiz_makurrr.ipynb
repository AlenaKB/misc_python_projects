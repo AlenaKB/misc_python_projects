{
 "cells": [
  {
   "cell_type": "markdown",
   "metadata": {},
   "source": [
    "Quiz Maker - An application which takes various questions from a file, picked randomly, and puts together a quiz for students. "
   ]
  },
  {
   "cell_type": "code",
   "execution_count": 1,
   "metadata": {},
   "outputs": [],
   "source": [
    "import random"
   ]
  },
  {
   "cell_type": "code",
   "execution_count": 21,
   "metadata": {},
   "outputs": [],
   "source": [
    "with open('questions.txt') as file:\n",
    "    questions = file.read()\n",
    "with open('answers.txt') as file:\n",
    "    answers = file.read()"
   ]
  },
  {
   "cell_type": "code",
   "execution_count": 22,
   "metadata": {},
   "outputs": [],
   "source": [
    "questions = questions.split(',')\n",
    "answers = answers.split(',')"
   ]
  },
  {
   "cell_type": "code",
   "execution_count": 23,
   "metadata": {},
   "outputs": [],
   "source": [
    "q_a_dict = {q.strip():a.strip().lower() for (q,a) in zip(questions, answers)}"
   ]
  },
  {
   "cell_type": "code",
   "execution_count": 27,
   "metadata": {},
   "outputs": [
    {
     "name": "stdout",
     "output_type": "stream",
     "text": [
      "What modern-day country was Marie Sklodowska born in? Poland\n",
      "Correct! Nice job!\n",
      "What planet in the solar system is sometimes known as the Morning Star or Evening Star? venus\n",
      "Correct! Nice job!\n",
      "Which is the most sensitive of the senses? smell\n",
      "Correct! Nice job!\n",
      "Which planet is known as the Jewell of the Solar System? saturn\n",
      "Correct! Nice job!\n",
      "What was the name of the first supersonic passenger airliner? concorde\n",
      "Correct! Nice job!\n",
      "What year did Sir Edmund Hillary and Tenzing Norgay climb Mount Everest? 1953\n",
      "Correct! Nice job!\n",
      "What is the name of NASA's 2020 Mars rover? perseverance\n",
      "Correct! Nice job!\n",
      "What is the most common chemical element in the universe? hydrogen\n",
      "Correct! Nice job!\n",
      "What year did the first man first walk on the Moon? 1969\n",
      "Correct! Nice job!\n",
      "In electronics what does DC stand for? direct current\n",
      "Correct! Nice job!\n",
      "Humans and chimpanzees share approximately how much % DNA? 98\n",
      "Correct! Nice job!\n",
      "On average how far away is the Sun from Earth? Answer in miles 93\n",
      "Correct! Nice job!\n",
      "Which legendary British physicist wrote A Brief History of Time? stephen hawking\n",
      "Correct! Nice job!\n",
      "How many hearts do octopuses have? 3\n",
      "Correct! Nice job!\n",
      "Which substance in the skin filters out harmful light from the Sun? melanin\n",
      "Correct! Nice job!\n",
      "\n",
      "\n",
      "------------------------------------------\n",
      "Congratulations on completing the quiz! \n",
      "Your score is 15 out of 15\n",
      "------------------------------------------\n"
     ]
    }
   ],
   "source": [
    "user_score = 0\n",
    "for quest in random.sample(list(q_a_dict), len(q_a_dict)):\n",
    "    answer = q_a_dict[quest]\n",
    "    answer_guess = input(quest +' ')\n",
    "\n",
    "\n",
    "    if answer_guess.lower() == answer:\n",
    "        print('Correct! Nice job!')\n",
    "        user_score +=1 \n",
    "    else:\n",
    "        print(f'Incorrect. The answer is {answer}')\n",
    "        \n",
    "print('\\n')        \n",
    "print('------------------------------------------')\n",
    "print(f'Congratulations on completing the quiz! \\n'\n",
    "     f'Your score is {user_score} out of {len(q_a_dict)}')\n",
    "print('------------------------------------------')"
   ]
  },
  {
   "cell_type": "code",
   "execution_count": null,
   "metadata": {},
   "outputs": [],
   "source": []
  }
 ],
 "metadata": {
  "kernelspec": {
   "display_name": "PythonData",
   "language": "python",
   "name": "pythondata"
  },
  "language_info": {
   "codemirror_mode": {
    "name": "ipython",
    "version": 3
   },
   "file_extension": ".py",
   "mimetype": "text/x-python",
   "name": "python",
   "nbconvert_exporter": "python",
   "pygments_lexer": "ipython3",
   "version": "3.8.1"
  }
 },
 "nbformat": 4,
 "nbformat_minor": 2
}
