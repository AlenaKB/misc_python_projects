{
 "cells": [
  {
   "cell_type": "code",
   "execution_count": 14,
   "metadata": {},
   "outputs": [],
   "source": [
    "#function that prints out a board \n",
    "from IPython.display import clear_output\n",
    "\n",
    "def display_board(board):\n",
    "    \n",
    "    \n",
    "    \n",
    "    print('  |   |  ')\n",
    "    print(board[1] +' | '+ board[2]+' | '+ board[3])\n",
    "    print('  |   |')\n",
    "    print('---------')\n",
    "    print('  |   |')\n",
    "    print(board[4] +' | '+ board[5]+' | '+ board[6])\n",
    "    print('  |   |')\n",
    "    print('---------')\n",
    "    print('  |   |')\n",
    "    print(board[7] +' | '+board[8]+' | '+ board[9])\n",
    "    print('  |   |  ')"
   ]
  },
  {
   "cell_type": "code",
   "execution_count": 15,
   "metadata": {},
   "outputs": [
    {
     "name": "stdout",
     "output_type": "stream",
     "text": [
      "  |   |  \n",
      "X | O | X\n",
      "  |   |\n",
      "---------\n",
      "  |   |\n",
      "O | X | O\n",
      "  |   |\n",
      "---------\n",
      "  |   |\n",
      "X | O | X\n",
      "  |   |  \n"
     ]
    }
   ],
   "source": [
    "test_board = ['#','X','O','X','O','X','O','X','O','X']\n",
    "display_board(test_board)"
   ]
  },
  {
   "cell_type": "code",
   "execution_count": 16,
   "metadata": {},
   "outputs": [],
   "source": [
    "#function that takes in player input \n",
    "\n",
    "def player_input():\n",
    "    \n",
    "    marker = ''\n",
    "    #create a while loop that will keep asking for the correct input \n",
    "    while marker != 'X' and marker != 'O':\n",
    "        \n",
    "        marker = input('player 1, choose X or O')\n",
    "        \n",
    "    player1 = marker\n",
    "    \n",
    "    if player1 == 'X':\n",
    "        player2 = 'O'\n",
    "    else:\n",
    "        player2 = 'X'\n",
    "    \n",
    "    return (player1, player2)"
   ]
  },
  {
   "cell_type": "code",
   "execution_count": 17,
   "metadata": {},
   "outputs": [],
   "source": [
    "#function that assigns a board object (X or O) to the selected position \n",
    "\n",
    "def place_marker(board, marker, position):\n",
    "    \n",
    "    board[position] = marker"
   ]
  },
  {
   "cell_type": "code",
   "execution_count": 18,
   "metadata": {},
   "outputs": [
    {
     "name": "stdout",
     "output_type": "stream",
     "text": [
      "  |   |  \n",
      "X | O | X\n",
      "  |   |\n",
      "---------\n",
      "  |   |\n",
      "& | X | O\n",
      "  |   |\n",
      "---------\n",
      "  |   |\n",
      "X | O | X\n",
      "  |   |  \n"
     ]
    }
   ],
   "source": [
    "#test the func with whatever variable\n",
    "place_marker(test_board, '&', 4)\n",
    "display_board(test_board)"
   ]
  },
  {
   "cell_type": "code",
   "execution_count": 19,
   "metadata": {},
   "outputs": [],
   "source": [
    "#function that takes in a board and a mark (X or O) and then checks to see if that mark has won\n",
    "def win_check(board, mark):\n",
    "    \n",
    "    return((board[1]==mark and board[2]==mark and board[3]==mark) or #upper line\n",
    "    (board[4]==mark and board[5]==mark and board[6]==mark) or #middle\n",
    "    (board[7]==mark and board[8]==mark and board[9]==mark) or #bottom\n",
    "    (board[1]==mark and board[4]==mark and board[7]==mark) or #down 1\n",
    "    (board[2]==mark and board[5]==mark and board[8]==mark) or #dowb the middle\n",
    "    (board[3]==mark and board[6]==mark and board[9]==mark) or #down 3\n",
    "    (board[1]==mark and board[5]==mark and board[9]==mark) or #diagonal\n",
    "    (board[3]==mark and board[5]==mark and board[7]==mark)) #diagonal"
   ]
  },
  {
   "cell_type": "code",
   "execution_count": 20,
   "metadata": {},
   "outputs": [
    {
     "data": {
      "text/plain": [
       "True"
      ]
     },
     "execution_count": 20,
     "metadata": {},
     "output_type": "execute_result"
    }
   ],
   "source": [
    "win_check(test_board,'X')"
   ]
  },
  {
   "cell_type": "code",
   "execution_count": 21,
   "metadata": {},
   "outputs": [],
   "source": [
    "# function that uses the random module to randomly decide which player goes first\n",
    "import random\n",
    "\n",
    "def choose_first():\n",
    "    if random.randint(0, 1) == 0:\n",
    "        return 'Player 2'\n",
    "    else:\n",
    "        return 'Player 1'"
   ]
  },
  {
   "cell_type": "code",
   "execution_count": 22,
   "metadata": {},
   "outputs": [],
   "source": [
    "#function that returns a boolean indicating whether a space on the board is freely available\n",
    "\n",
    "def space_check(board, position):\n",
    "    return board[position] == ' '\n",
    "    "
   ]
  },
  {
   "cell_type": "code",
   "execution_count": 23,
   "metadata": {},
   "outputs": [],
   "source": [
    "def full_board_check(board):\n",
    "    for i in range(1,10):\n",
    "        if space_check(board, i):\n",
    "            return False\n",
    "    return True"
   ]
  },
  {
   "cell_type": "code",
   "execution_count": 24,
   "metadata": {},
   "outputs": [],
   "source": [
    "# function that asks for a player's next position (as a number 1-9)\n",
    "def player_choice(board):\n",
    "    position = 0\n",
    "    \n",
    "    while position not in [1,2,3,4,5,6,7,8,9] or not space_check(board, position):\n",
    "        position = int(input('Choose your next position: (1-9) '))\n",
    "        \n",
    "    return position"
   ]
  },
  {
   "cell_type": "code",
   "execution_count": 25,
   "metadata": {},
   "outputs": [],
   "source": [
    "#ask a player if they want to play again - return True, if not - return False\n",
    "def replay():\n",
    "    \n",
    "    return input('Do you want to play again? Enter Yes or No: ').lower().startswith('y')"
   ]
  },
  {
   "cell_type": "code",
   "execution_count": 27,
   "metadata": {},
   "outputs": [
    {
     "name": "stdout",
     "output_type": "stream",
     "text": [
      "Welcome to Tic Tac Toe!\n",
      "player 1, choose X or OO\n",
      "Player 1 will go first.\n",
      "Are you ready to play? Enter Yes or No.yes\n",
      "  |   |  \n",
      "  |   |  \n",
      "  |   |\n",
      "---------\n",
      "  |   |\n",
      "  |   |  \n",
      "  |   |\n",
      "---------\n",
      "  |   |\n",
      "  |   |  \n",
      "  |   |  \n",
      "Choose your next position: (1-9) 5\n",
      "  |   |  \n",
      "  |   |  \n",
      "  |   |\n",
      "---------\n",
      "  |   |\n",
      "  | O |  \n",
      "  |   |\n",
      "---------\n",
      "  |   |\n",
      "  |   |  \n",
      "  |   |  \n",
      "Choose your next position: (1-9) 1\n",
      "  |   |  \n",
      "X |   |  \n",
      "  |   |\n",
      "---------\n",
      "  |   |\n",
      "  | O |  \n",
      "  |   |\n",
      "---------\n",
      "  |   |\n",
      "  |   |  \n",
      "  |   |  \n",
      "Choose your next position: (1-9) 8\n",
      "  |   |  \n",
      "X |   |  \n",
      "  |   |\n",
      "---------\n",
      "  |   |\n",
      "  | O |  \n",
      "  |   |\n",
      "---------\n",
      "  |   |\n",
      "  | O |  \n",
      "  |   |  \n",
      "Choose your next position: (1-9) 2\n",
      "  |   |  \n",
      "X | X |  \n",
      "  |   |\n",
      "---------\n",
      "  |   |\n",
      "  | O |  \n",
      "  |   |\n",
      "---------\n",
      "  |   |\n",
      "  | O |  \n",
      "  |   |  \n",
      "Choose your next position: (1-9) 3\n",
      "  |   |  \n",
      "X | X | O\n",
      "  |   |\n",
      "---------\n",
      "  |   |\n",
      "  | O |  \n",
      "  |   |\n",
      "---------\n",
      "  |   |\n",
      "  | O |  \n",
      "  |   |  \n",
      "Choose your next position: (1-9) 4\n",
      "  |   |  \n",
      "X | X | O\n",
      "  |   |\n",
      "---------\n",
      "  |   |\n",
      "X | O |  \n",
      "  |   |\n",
      "---------\n",
      "  |   |\n",
      "  | O |  \n",
      "  |   |  \n",
      "Choose your next position: (1-9) 7\n",
      "  |   |  \n",
      "X | X | O\n",
      "  |   |\n",
      "---------\n",
      "  |   |\n",
      "X | O |  \n",
      "  |   |\n",
      "---------\n",
      "  |   |\n",
      "O | O |  \n",
      "  |   |  \n",
      "Congratulations! You have won the game!\n",
      "Do you want to play again? Enter Yes or No: N\n"
     ]
    }
   ],
   "source": [
    "print('Welcome to Tic Tac Toe!')\n",
    "while True:\n",
    "    # Reset the board\n",
    "    theBoard = [' '] * 10\n",
    "    player1_marker, player2_marker = player_input()\n",
    "    turn = choose_first()\n",
    "    print(turn + ' will go first.')\n",
    "    \n",
    "    play_game = input('Are you ready to play? Enter Yes or No.')\n",
    "    \n",
    "    if play_game.lower()[0] == 'y':\n",
    "        game_on = True\n",
    "    else:\n",
    "        game_on = False\n",
    "\n",
    "    while game_on:\n",
    "        if turn == 'Player 1':\n",
    "            # Player1's turn.\n",
    "            \n",
    "            display_board(theBoard)\n",
    "            position = player_choice(theBoard)\n",
    "            place_marker(theBoard, player1_marker, position)\n",
    "\n",
    "            if win_check(theBoard, player1_marker):\n",
    "                display_board(theBoard)\n",
    "                print('Congratulations! You have won the game!')\n",
    "                game_on = False\n",
    "            else:\n",
    "                if full_board_check(theBoard):\n",
    "                    display_board(theBoard)\n",
    "                    print('The game is a draw!')\n",
    "                    break\n",
    "                else:\n",
    "                    turn = 'Player 2'\n",
    "\n",
    "        else:\n",
    "            # Player2's turn.\n",
    "            \n",
    "            display_board(theBoard)\n",
    "            position = player_choice(theBoard)\n",
    "            place_marker(theBoard, player2_marker, position)\n",
    "\n",
    "            if win_check(theBoard, player2_marker):\n",
    "                display_board(theBoard)\n",
    "                print('Player 2 has won!')\n",
    "                game_on = False\n",
    "            else:\n",
    "                if full_board_check(theBoard):\n",
    "                    display_board(theBoard)\n",
    "                    print('The game is a draw!')\n",
    "                    break\n",
    "                else:\n",
    "                    turn = 'Player 1'\n",
    "\n",
    "    if not replay():\n",
    "        break"
   ]
  },
  {
   "cell_type": "code",
   "execution_count": null,
   "metadata": {},
   "outputs": [],
   "source": []
  },
  {
   "cell_type": "code",
   "execution_count": null,
   "metadata": {},
   "outputs": [],
   "source": []
  }
 ],
 "metadata": {
  "kernelspec": {
   "display_name": "PythonData",
   "language": "python",
   "name": "pythondata"
  },
  "language_info": {
   "codemirror_mode": {
    "name": "ipython",
    "version": 3
   },
   "file_extension": ".py",
   "mimetype": "text/x-python",
   "name": "python",
   "nbconvert_exporter": "python",
   "pygments_lexer": "ipython3",
   "version": "3.8.1"
  }
 },
 "nbformat": 4,
 "nbformat_minor": 4
}
