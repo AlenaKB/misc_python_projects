{
 "cells": [
  {
   "cell_type": "code",
   "execution_count": 1,
   "metadata": {},
   "outputs": [],
   "source": [
    "import pandas as pd\n",
    "import requests \n",
    "import json \n",
    "from config import weather_key\n",
    "import geocoder"
   ]
  },
  {
   "cell_type": "code",
   "execution_count": 2,
   "metadata": {},
   "outputs": [],
   "source": [
    "#fetch the current user zip code (might not be 100% accurate, but close)\n",
    "g = geocoder.ip('me')\n",
    "zipcode = g.postal"
   ]
  },
  {
   "cell_type": "code",
   "execution_count": 13,
   "metadata": {},
   "outputs": [],
   "source": [
    "#openweather api url\n",
    "url = \"http://api.openweathermap.org/data/2.5/weather?zip=\"+zipcode+ \"&units=imperial&appid=\" + weather_key"
   ]
  },
  {
   "cell_type": "code",
   "execution_count": 15,
   "metadata": {},
   "outputs": [],
   "source": [
    "#parse the json file \n",
    "zip_weather = requests.get(url)\n",
    "weather_json = zip_weather.json()\n",
    "current_weather = weather_json['main']['temp']"
   ]
  },
  {
   "cell_type": "code",
   "execution_count": 36,
   "metadata": {},
   "outputs": [
    {
     "name": "stdout",
     "output_type": "stream",
     "text": [
      "------------------------------------------------------------\n",
      "Current weather at your zip code is 79.6 degrees Fahrenheit\n",
      "------------------------------------------------------------\n"
     ]
    }
   ],
   "source": [
    "print('-'*60)\n",
    "print(f'Current weather at your zip code is {current_weather:.1f} degrees Fahrenheit')\n",
    "print('-'*60)"
   ]
  }
 ],
 "metadata": {
  "kernelspec": {
   "display_name": "PythonData",
   "language": "python",
   "name": "pythondata"
  },
  "language_info": {
   "codemirror_mode": {
    "name": "ipython",
    "version": 3
   },
   "file_extension": ".py",
   "mimetype": "text/x-python",
   "name": "python",
   "nbconvert_exporter": "python",
   "pygments_lexer": "ipython3",
   "version": "3.8.1"
  }
 },
 "nbformat": 4,
 "nbformat_minor": 2
}
